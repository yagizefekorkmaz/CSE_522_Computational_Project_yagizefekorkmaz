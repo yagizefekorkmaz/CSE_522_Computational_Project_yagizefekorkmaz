{
  "nbformat": 4,
  "nbformat_minor": 0,
  "metadata": {
    "colab": {
      "name": "CSE-522_Computational_Project_Radius_of_Gyration.ipynb",
      "provenance": []
    },
    "kernelspec": {
      "name": "python3",
      "display_name": "Python 3"
    },
    "language_info": {
      "name": "python"
    }
  },
  "cells": [
    {
      "cell_type": "code",
      "execution_count": null,
      "metadata": {
        "id": "uPlZi8CDh_pY"
      },
      "outputs": [],
      "source": [
        "import MDAnalysis as mda\n",
        "import numpy as np\n",
        "import math\n",
        "import pandas as pd\n",
        "import matplotlib.pyplot as plt"
      ]
    },
    {
      "cell_type": "code",
      "source": [
        "#-----Uploading trajectory file to MDAnalyisis as a Universe----------\n",
        "\n",
        "u = mda.Universe(\"FUS.gsd\")"
      ],
      "metadata": {
        "id": "jvOEnGkgiHrt"
      },
      "execution_count": null,
      "outputs": []
    },
    {
      "cell_type": "code",
      "source": [
        "#-----Definiton of the 100 Proteins by Particle IDs-------\n",
        "proteins = {}\n",
        "\n",
        "for i in range(0,100):\n",
        "    proteins[i] = u.select_atoms(\"index \"+str(163*i)+\":\" +str(163*(i+1)-1))"
      ],
      "metadata": {
        "id": "9TyE18RKjM52"
      },
      "execution_count": null,
      "outputs": []
    },
    {
      "cell_type": "code",
      "source": [
        "#---(ALL FRAMES) Main Loop to Determine High and Low Densities and Calculate Radius of Gyration----\n",
        "\n",
        "tot_high_den_rog = 0\n",
        "tot_low_den_rog = 0\n",
        "num_high_protein = 0\n",
        "num_low_protein = 0\n",
        "\n",
        "\n",
        "start_frame = 0\n",
        "end_frame = 1000\n",
        "avg_high_den_rog = np.zeros([end_frame-start_frame])\n",
        "avg_low_den_rog = np.zeros([end_frame-start_frame])\n",
        "frame = 0\n",
        "\n",
        "for ts in u.trajectory[start_frame:end_frame] :\n",
        "  for i in range(0,100):\n",
        "    bin_coor = proteins[i][80].position[2]\n",
        "    atom_count = u.select_atoms(\"prop z>\"+str(bin_coor-0.5)+\" and prop z<\"+str(bin_coor+0.5))\n",
        "    if np.size(atom_count)>400 :\n",
        "      tot_high_den_rog = tot_high_den_rog + proteins[i].radius_of_gyration(wrap=True)\n",
        "      num_high_protein = num_high_protein + 1\n",
        "    if np.size(atom_count)<70 :\n",
        "      tot_low_den_rog = tot_low_den_rog + proteins[i].radius_of_gyration(wrap=True)\n",
        "      num_low_protein = num_low_protein + 1\n",
        "  avg_high_den_rog[frame] = tot_high_den_rog/num_high_protein\n",
        "  if num_low_protein == 0 :\n",
        "    avg_low_den_rog[frame] = 0\n",
        "  if num_low_protein != 0 :\n",
        "    avg_low_den_rog[frame] = tot_low_den_rog/num_low_protein\n",
        "  frame = frame + 1\n",
        "  tot_high_den_rog = 0\n",
        "  tot_low_den_rog = 0\n",
        "  num_high_protein = 0\n",
        "  num_low_protein = 0 \n",
        "\n",
        "tot_avg_high_den_rog = 0\n",
        "tot_avg_low_den_rog = 0\n",
        "avg_frame = 0\n",
        "equ_start = 550\n",
        "\n",
        "for j in range(equ_start,end_frame):\n",
        "  tot_avg_high_den_rog = tot_avg_high_den_rog + avg_high_den_rog[j]\n",
        "  tot_avg_low_den_rog = tot_avg_low_den_rog + avg_low_den_rog[j]\n",
        "  avg_frame = avg_frame + 1\n",
        "\n",
        "tot_avg_high_den_rog = tot_avg_high_den_rog / avg_frame\n",
        "tot_avg_low_den_rog = tot_avg_low_den_rog / avg_frame"
      ],
      "metadata": {
        "id": "OLVA2Gqj11eC"
      },
      "execution_count": null,
      "outputs": []
    },
    {
      "cell_type": "code",
      "source": [
        "#----Saving the Data----\n",
        "\n",
        "f = open('High_Density_ROG.txt', 'a')\n",
        "np.savetxt(f,avg_high_den_rog, delimiter=\" \")\n",
        "f.close()\n",
        "\n",
        "f = open('Low_Density_ROG.txt', 'a')\n",
        "np.savetxt(f,avg_low_den_rog, delimiter=\" \")\n",
        "f.close()\n",
        "\n",
        "array_tot_avg_rog = np.zeros([2,1])\n",
        "\n",
        "array_tot_avg_rog[0,0] = tot_avg_high_den_rog\n",
        "array_tot_avg_rog[1,0] = tot_avg_low_den_rog\n",
        "\n",
        "f = open('Total_Avg_ROG.txt', 'a')\n",
        "np.savetxt(f,array_tot_avg_rog, delimiter=\" \")\n",
        "f.close()"
      ],
      "metadata": {
        "id": "8FRiHbKfFKOO"
      },
      "execution_count": null,
      "outputs": []
    },
    {
      "cell_type": "code",
      "source": [
        "#---------Plotting---------\n",
        "frames = np.linspace(1,1201,1200)\n",
        "\n",
        "ax = plt.subplot(111)\n",
        "ax.plot(frames, avg_low_den_rog, 'b', lw=2, label=r\"$Low Density$\")\n",
        "ax.plot(frames, avg_high_den_rog, 'r', lw=2, label=r\"$High Density$\")\n",
        "ax.set_xlabel(\"Frame\")\n",
        "ax.set_ylabel(\"radius of gyration $R_G$ (nm)\")\n",
        "ax.legend()\n",
        "ax.figure.savefig(\"Rgyr.pdf\")\n",
        "plt.show()"
      ],
      "metadata": {
        "id": "Enk6_NyAFMHr"
      },
      "execution_count": null,
      "outputs": []
    },
    {
      "cell_type": "code",
      "source": [
        "#----------------------------------------------------------------------------------------------------------------------------"
      ],
      "metadata": {
        "id": "rWt0EltxFNv8"
      },
      "execution_count": null,
      "outputs": []
    },
    {
      "cell_type": "code",
      "source": [
        "#---(ONLY ONE FRAME) Main Loop to Determine High and Low Densities and Calculate Radius of Gyration----\n",
        "\n",
        "u.trajectory[1166]\n",
        "\n",
        "tot_high_den_rog = 0\n",
        "tot_low_den_rog = 0\n",
        "num_high_protein = 0\n",
        "num_low_protein = 0\n",
        "\n",
        "for i in range(0,100):\n",
        "  bin_coor = proteins[i][80].position[2]\n",
        "  atom_count = u.select_atoms(\"prop z>\"+str(bin_coor-0.5)+\" and prop z<\"+str(bin_coor+0.5))\n",
        "  if np.size(atom_count)>400 :\n",
        "    tot_high_den_rog = tot_high_den_rog + proteins[i].radius_of_gyration(wrap=False)\n",
        "    num_high_protein = num_high_protein + 1\n",
        "    print(np.size(atom_count),bin_coor,proteins[i].radius_of_gyration(wrap=False))\n",
        "  if np.size(atom_count)<70 :\n",
        "    tot_low_den_rog = tot_low_den_rog + proteins[i].radius_of_gyration(wrap=False)\n",
        "    num_low_protein = num_low_protein + 1\n",
        "    print(np.size(atom_count),bin_coor,proteins[i].radius_of_gyration(wrap=False))\n",
        "\n",
        "avg_high_den_rog = tot_high_den_rog/num_high_protein\n",
        "avg_low_den_rog = tot_low_den_rog/num_low_protein"
      ],
      "metadata": {
        "id": "AYIPILktnWQZ"
      },
      "execution_count": null,
      "outputs": []
    }
  ]
}