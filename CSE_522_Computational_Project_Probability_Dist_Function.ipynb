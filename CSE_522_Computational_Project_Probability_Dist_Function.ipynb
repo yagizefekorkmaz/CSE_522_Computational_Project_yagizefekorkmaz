{
  "nbformat": 4,
  "nbformat_minor": 0,
  "metadata": {
    "colab": {
      "name": "CSE-522_Computational_Project_Probability_Dist_Function.ipynb",
      "provenance": []
    },
    "kernelspec": {
      "name": "python3",
      "display_name": "Python 3"
    },
    "language_info": {
      "name": "python"
    }
  },
  "cells": [
    {
      "cell_type": "code",
      "execution_count": null,
      "metadata": {
        "id": "PxbK-QGN0bqA"
      },
      "outputs": [],
      "source": [
        "import numpy as np\n",
        "import math\n",
        "import pandas as pd\n",
        "import matplotlib.pyplot as plt\n",
        "import seaborn\n",
        "from scipy.stats import binom"
      ]
    },
    {
      "cell_type": "code",
      "source": [
        "#-----Read Radius of Gyration Data---------\n",
        "high_den_rog = pd.read_csv('High_Density_ROG_wFalse.txt', sep=\" \", header=None)\n",
        "low_den_rog = pd.read_csv('Low_Density_ROG_wFalse.txt', sep=\" \", header=None)\n",
        "\n",
        "#Takes only the Equilibrium data\n",
        "equi = 600\n",
        "\n",
        "eq_high_den_rog = high_den_rog[equi:]\n",
        "eq_low_den_rog = low_den_rog[equi:]"
      ],
      "metadata": {
        "id": "ycCaT3L80r4s"
      },
      "execution_count": null,
      "outputs": []
    },
    {
      "cell_type": "code",
      "source": [
        "#----Plotting Distribution Functions-----\n",
        "\n",
        "ax = plt.subplot(1)\n",
        "ax=seaborn.distplot(eq_high_den_rog,hist=False,label='High Density Proteins')\n",
        "ax.set_xscale('log')\n",
        "ax.set(xlabel='Radius of Gyration (nm)',ylabel='P($R_g$)')\n",
        "ax.legend()\n",
        "ax.figure.savefig(\"Prob_Dist_High_Density.pdf\")\n",
        "plt.show()\n",
        "\n",
        "ax = plt.subplot(2)\n",
        "ax=seaborn.distplot(eq_low_den_rog,hist=False,label='Low Density Proteins')\n",
        "ax.set(xlabel='Radius of Gyration (nm)',ylabel='P($R_g$)')\n",
        "ax.legend()\n",
        "ax.figure.savefig(\"Prob_Dist_Low_Density.pdf\")\n",
        "\n",
        "plt.show()"
      ],
      "metadata": {
        "id": "bXdKIjaj18bq"
      },
      "execution_count": null,
      "outputs": []
    }
  ]
}