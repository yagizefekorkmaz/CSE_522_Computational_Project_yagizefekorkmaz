{
  "nbformat": 4,
  "nbformat_minor": 0,
  "metadata": {
    "colab": {
      "name": "CSE-522_Computational_Project_Aminoacid_Distances.ipynb",
      "provenance": [],
      "collapsed_sections": []
    },
    "kernelspec": {
      "name": "python3",
      "display_name": "Python 3"
    },
    "language_info": {
      "name": "python"
    }
  },
  "cells": [
    {
      "cell_type": "code",
      "execution_count": null,
      "metadata": {
        "id": "Jkv5LY7zIivO"
      },
      "outputs": [],
      "source": [
        "import MDAnalysis as mda\n",
        "import numpy as np\n",
        "import math\n",
        "import pandas as pd\n",
        "import matplotlib.pyplot as plt"
      ]
    },
    {
      "cell_type": "code",
      "source": [
        "#-----Uploading trajectory file to MDAnalyisis as a Universe----------\n",
        "\n",
        "u = mda.Universe(\"FUS.gsd\",lengthunit=\"A\", timeunit=\"fs\")"
      ],
      "metadata": {
        "id": "ks-EHu42IozM"
      },
      "execution_count": null,
      "outputs": []
    },
    {
      "cell_type": "code",
      "source": [
        "#-----Definiton of the 100 Proteins by Particle IDs-------\n",
        "proteins = {}\n",
        "\n",
        "for i in range(0,100):\n",
        "    proteins[i] = u.select_atoms(\"index \"+str(163*i)+\":\" +str(163*(i+1)-1))"
      ],
      "metadata": {
        "id": "KSSQnvRSIqNl"
      },
      "execution_count": null,
      "outputs": []
    },
    {
      "cell_type": "code",
      "source": [
        "#---(ALL FRAMES) Main Loop to Determine High and Low Densities and Calculate Interparticle Distances----\n",
        "\n",
        "num_high_protein = 0\n",
        "num_low_protein = 0\n",
        "\n",
        "s_pro_high_dist = np.zeros([163])\n",
        "s_pro_low_dist = np.zeros([163])\n",
        "total_pro_high_dist = np.zeros([163])\n",
        "total_pro_low_dist = np.zeros([163])\n",
        "avg_all_frame_high_dist = np.zeros([163])\n",
        "avg_all_frame_low_dist = np.zeros([163])\n",
        "\n",
        "start_frame = 600\n",
        "end_frame = 1200\n",
        "frame = 0\n",
        "\n",
        "for ts in u.trajectory[start_frame:end_frame] :\n",
        "  for i in range(0,100):\n",
        "    bin_coor = proteins[i][80].position[2]\n",
        "    atom_count = u.select_atoms(\"prop z>\"+str(bin_coor-0.5)+\" and prop z<\"+str(bin_coor+0.5))\n",
        "    if np.size(atom_count)>400 :\n",
        "      for j in range(0,163):\n",
        "        s_pro_high_dist[j] = math.dist(proteins[i][0].position,proteins[i][j].position)\n",
        "      total_pro_high_dist = total_pro_high_dist + s_pro_high_dist\n",
        "      num_high_protein = num_high_protein + 1\n",
        "    if np.size(atom_count)<70 :\n",
        "      for j in range(0,163):\n",
        "        s_pro_low_dist[j] = math.dist(proteins[i][0].position,proteins[i][j].position)\n",
        "      total_pro_low_dist = total_pro_low_dist + s_pro_low_dist\n",
        "      num_low_protein = num_low_protein + 1\n",
        "  avg_s_frame_high_dist = total_pro_high_dist/num_high_protein\n",
        "  avg_s_frame_low_dist = total_pro_low_dist/num_low_protein\n",
        "  avg_all_frame_high_dist = avg_all_frame_high_dist + avg_s_frame_high_dist\n",
        "  avg_all_frame_low_dist = avg_all_frame_low_dist + avg_s_frame_low_dist\n",
        "  num_high_protein = 0\n",
        "  num_low_protein = 0\n",
        "  total_pro_high_dist = 0\n",
        "  total_pro_low_dist = 0\n",
        "  frame = frame + 1\n",
        "\n",
        "total_avg_all_frame_high_dist = avg_all_frame_high_dist/frame\n",
        "total_avg_all_frame_low_dist = avg_all_frame_low_dist/frame"
      ],
      "metadata": {
        "id": "yvqulhvTIqpU"
      },
      "execution_count": null,
      "outputs": []
    },
    {
      "cell_type": "code",
      "source": [
        "#----Saving the Data----\n",
        "\n",
        "f = open('High_Density_Intermolecular_Distances.txt', 'a')\n",
        "np.savetxt(f,total_avg_all_frame_high_dist, delimiter=\" \")\n",
        "f.close()\n",
        "\n",
        "f = open('Low_Density_Intermolecular_Distances.txt', 'a')\n",
        "np.savetxt(f,total_avg_all_frame_low_dist, delimiter=\" \")\n",
        "f.close()"
      ],
      "metadata": {
        "id": "CbOrLWlnwlaA"
      },
      "execution_count": null,
      "outputs": []
    },
    {
      "cell_type": "code",
      "source": [
        "#---------Plotting---------\n",
        "indices = np.linspace(0,162,163)\n",
        "\n",
        "ax = plt.subplot(111)\n",
        "ax.plot(indices, total_avg_all_frame_low_dist, 'b', lw=2, label=r\"$Low Density$\")\n",
        "ax.plot(indices, total_avg_all_frame_high_dist, 'r', lw=2, label=r\"$High Density$\")\n",
        "ax.set_xlabel(\"|i-j|\")\n",
        "ax.set_ylabel(\"$R_ij$ (nm)\")\n",
        "ax.legend()\n",
        "ax.figure.savefig(\"Intermoleculer_Distances.pdf\")\n",
        "plt.show()"
      ],
      "metadata": {
        "id": "n4XLnkjzwwm3"
      },
      "execution_count": null,
      "outputs": []
    },
    {
      "cell_type": "code",
      "source": [
        "#---(SINGLE FRAME) Main Loop to Determine High and Low Densities and Calculate Interparticle Distances----\n",
        "\n",
        "\n",
        "u.trajectory[1166]\n",
        "\n",
        "num_high_protein = 0\n",
        "num_low_protein = 0\n",
        "\n",
        "s_pro_high_dist = np.zeros([163])\n",
        "s_pro_low_dist = np.zeros([163])\n",
        "total_pro_high_dist = np.zeros([163])\n",
        "total_pro_low_dist = np.zeros([163])\n",
        "\n",
        "\n",
        "for i in range(0,100):\n",
        "  bin_coor = proteins[i][80].position[2]\n",
        "  atom_count = u.select_atoms(\"prop z>\"+str(bin_coor-0.5)+\" and prop z<\"+str(bin_coor+0.5))\n",
        "  if np.size(atom_count)>400 :\n",
        "    for j in range(0,163):\n",
        "      s_pro_high_dist[j] = math.dist(proteins[i][0].position,proteins[i][j].position)\n",
        "    num_high_protein = num_high_protein + 1\n",
        "    total_pro_high_dist = total_pro_high_dist + s_pro_high_dist\n",
        "  if np.size(atom_count)<70 :\n",
        "    for j in range(0,163):\n",
        "      s_pro_low_dist[j] = math.dist(proteins[i][0].position,proteins[i][j].position)\n",
        "    num_low_protein = num_low_protein + 1\n",
        "    total_pro_low_dist = total_pro_low_dist + s_pro_low_dist\n",
        "\n",
        "avg_s_frame_high_dist = total_pro_high_dist/num_high_protein\n",
        "avg_s_frame_low_dist = total_pro_low_dist/num_low_protein"
      ],
      "metadata": {
        "id": "e_wkIJDIq4GY"
      },
      "execution_count": null,
      "outputs": []
    }
  ]
}